{
 "cells": [
  {
   "cell_type": "markdown",
   "metadata": {},
   "source": [
    "# Experiment (Get IP address from request)"
   ]
  },
  {
   "cell_type": "code",
   "execution_count": 2,
   "metadata": {},
   "outputs": [
    {
     "ename": "AttributeError",
     "evalue": "module 'gradio' has no attribute 'Request'",
     "output_type": "error",
     "traceback": [
      "\u001b[1;31m---------------------------------------------------------------------------\u001b[0m",
      "\u001b[1;31mAttributeError\u001b[0m                            Traceback (most recent call last)",
      "Cell \u001b[1;32mIn[2], line 1\u001b[0m\n\u001b[1;32m----> 1\u001b[0m \u001b[38;5;28;01mdef\u001b[39;00m \u001b[38;5;21mget_client_ip\u001b[39m(request: \u001b[43mgr\u001b[49m\u001b[38;5;241;43m.\u001b[39;49m\u001b[43mRequest\u001b[49m) \u001b[38;5;241m-\u001b[39m\u001b[38;5;241m>\u001b[39m \u001b[38;5;28mstr\u001b[39m:\n\u001b[0;32m      2\u001b[0m \u001b[38;5;250m    \u001b[39m\u001b[38;5;124;03m\"\"\"Get the client's IP address from the request.\"\"\"\u001b[39;00m\n\u001b[0;32m      3\u001b[0m     \u001b[38;5;28;01mif\u001b[39;00m \u001b[38;5;124m\"\u001b[39m\u001b[38;5;124mcf-connecting-ip\u001b[39m\u001b[38;5;124m\"\u001b[39m \u001b[38;5;129;01min\u001b[39;00m request\u001b[38;5;241m.\u001b[39mheaders:\n",
      "\u001b[1;31mAttributeError\u001b[0m: module 'gradio' has no attribute 'Request'"
     ]
    }
   ],
   "source": [
    "def get_client_ip(request: gr.Request) -> str:\n",
    "    \"\"\"Get the client's IP address from the request.\"\"\"\n",
    "    if \"cf-connecting-ip\" in request.headers:\n",
    "        return request.headers[\"cf-connecting-ip\"]\n",
    "    elif \"x-forwarded-for\" in request.headers:\n",
    "        return request.headers[\"x-forwarded-for\"]\n",
    "    else:\n",
    "        return request.client.host"
   ]
  },
  {
   "cell_type": "code",
   "execution_count": 3,
   "metadata": {},
   "outputs": [
    {
     "ename": "AttributeError",
     "evalue": "module 'gradio' has no attribute 'Blocks'",
     "output_type": "error",
     "traceback": [
      "\u001b[1;31m---------------------------------------------------------------------------\u001b[0m",
      "\u001b[1;31mAttributeError\u001b[0m                            Traceback (most recent call last)",
      "Cell \u001b[1;32mIn[3], line 5\u001b[0m\n\u001b[0;32m      2\u001b[0m \u001b[38;5;28;01mimport\u001b[39;00m \u001b[38;5;21;01mrandom\u001b[39;00m\n\u001b[0;32m      3\u001b[0m \u001b[38;5;28;01mimport\u001b[39;00m \u001b[38;5;21;01mtime\u001b[39;00m\n\u001b[1;32m----> 5\u001b[0m \u001b[38;5;28;01mwith\u001b[39;00m \u001b[43mgr\u001b[49m\u001b[38;5;241;43m.\u001b[39;49m\u001b[43mBlocks\u001b[49m() \u001b[38;5;28;01mas\u001b[39;00m demo:\n\u001b[0;32m      6\u001b[0m     chatbot \u001b[38;5;241m=\u001b[39m gr\u001b[38;5;241m.\u001b[39mChatbot()\n\u001b[0;32m      7\u001b[0m     msg \u001b[38;5;241m=\u001b[39m gr\u001b[38;5;241m.\u001b[39mTextbox()\n",
      "\u001b[1;31mAttributeError\u001b[0m: module 'gradio' has no attribute 'Blocks'"
     ]
    }
   ],
   "source": [
    "import gradio as gr\n",
    "import random\n",
    "import time\n",
    "\n",
    "with gr.Blocks() as demo:\n",
    "    chatbot = gr.Chatbot()\n",
    "    msg = gr.Textbox()\n",
    "    clear = gr.Button(\"Clear\")\n",
    "\n",
    "    def user(user_message, history, request: gr.Request):\n",
    "        print(get_client_ip(request))\n",
    "        return \"\", history + [[user_message, None]]\n",
    "\n",
    "    def bot(history):\n",
    "        bot_message = random.choice([\"How are you?\", \"I love you\", \"I'm very hungry\"])\n",
    "        time.sleep(2)\n",
    "        history[-1][1] = bot_message\n",
    "        return history\n",
    "\n",
    "    msg.submit(user, [msg, chatbot], [msg, chatbot], queue=False).then(\n",
    "        bot, chatbot, chatbot\n",
    "    )\n",
    "    clear.click(lambda: None, None, chatbot, queue=False)\n",
    "    \n",
    "demo.queue()\n",
    "demo.launch()\n"
   ]
  },
  {
   "cell_type": "markdown",
   "metadata": {},
   "source": [
    "# State Testing(Text)"
   ]
  },
  {
   "cell_type": "markdown",
   "metadata": {},
   "source": [
    "## Gradio Interface"
   ]
  },
  {
   "cell_type": "code",
   "execution_count": null,
   "metadata": {},
   "outputs": [],
   "source": [
    "import gradio as gr\n",
    "from typing import List\n",
    "\n",
    "def store_message(message: str, history: List[str]):\n",
    "    output = {\n",
    "        \"Current messages\": message,\n",
    "        \"Previous messages\": history[::-1]\n",
    "    }\n",
    "    history.append(message)\n",
    "    return output, history\n",
    "\n",
    "demo = gr.Interface(fn=store_message, \n",
    "                    inputs=[\"textbox\", gr.State(value=[])], \n",
    "                    outputs=[\"json\", gr.State()])\n",
    "\n",
    "demo.launch()"
   ]
  },
  {
   "cell_type": "markdown",
   "metadata": {},
   "source": [
    "## Gradio Block"
   ]
  },
  {
   "cell_type": "code",
   "execution_count": 4,
   "metadata": {},
   "outputs": [
    {
     "name": "stdout",
     "output_type": "stream",
     "text": [
      "Running on local URL:  http://127.0.0.1:7881\n",
      "\n",
      "To create a public link, set `share=True` in `launch()`.\n"
     ]
    },
    {
     "data": {
      "text/html": [
       "<div><iframe src=\"http://127.0.0.1:7881/\" width=\"100%\" height=\"500\" allow=\"autoplay; camera; microphone; clipboard-read; clipboard-write;\" frameborder=\"0\" allowfullscreen></iframe></div>"
      ],
      "text/plain": [
       "<IPython.core.display.HTML object>"
      ]
     },
     "metadata": {},
     "output_type": "display_data"
    },
    {
     "data": {
      "text/plain": []
     },
     "execution_count": 4,
     "metadata": {},
     "output_type": "execute_result"
    }
   ],
   "source": [
    "import gradio as gr\n",
    "from typing import List\n",
    "\n",
    "def store_message(message: str, history: List[str]):\n",
    "    output = {\n",
    "        \"Current messages\": message,\n",
    "        \"Previous messages\": history[::-1]\n",
    "    }\n",
    "    history.append(message)\n",
    "    return output, history\n",
    "\n",
    "def clear_history():\n",
    "    return {}, []\n",
    "\n",
    "def update(message: str, history: List[str]):\n",
    "    return store_message(message, history)\n",
    "\n",
    "with gr.Blocks() as demo:\n",
    "    state = gr.State(value=[])\n",
    "    \n",
    "    with gr.Row(equal_height=True):\n",
    "        with gr.Column(scale=1):\n",
    "            textbox = gr.Textbox(label=\"Enter message\")\n",
    "            with gr.Row():\n",
    "                submit_btn = gr.Button(\"Submit\")\n",
    "                clear_btn = gr.Button(\"Clear\")\n",
    "        with gr.Column(scale=1):\n",
    "            output = gr.JSON(label=\"Output\")\n",
    "\n",
    "    submit_btn.click(update, inputs=[textbox, state], outputs=[output, state])\n",
    "    clear_btn.click(clear_history, inputs=[], outputs=[output, state])\n",
    "    textbox.submit(update, inputs=[textbox, state], outputs=[output, state])\n",
    "\n",
    "demo.launch()"
   ]
  },
  {
   "cell_type": "code",
   "execution_count": 6,
   "metadata": {},
   "outputs": [
    {
     "ename": "AttributeError",
     "evalue": "module 'gradio' has no attribute 'Blocks'",
     "output_type": "error",
     "traceback": [
      "\u001b[1;31m---------------------------------------------------------------------------\u001b[0m",
      "\u001b[1;31mAttributeError\u001b[0m                            Traceback (most recent call last)",
      "Cell \u001b[1;32mIn[6], line 21\u001b[0m\n\u001b[0;32m     18\u001b[0m \u001b[38;5;28;01mdef\u001b[39;00m \u001b[38;5;21mupdate\u001b[39m(message: \u001b[38;5;28mstr\u001b[39m, history: Dict[\u001b[38;5;28mstr\u001b[39m, \u001b[38;5;28mstr\u001b[39m], count: \u001b[38;5;28mint\u001b[39m):\n\u001b[0;32m     19\u001b[0m     \u001b[38;5;28;01mreturn\u001b[39;00m store_message(message, history, count)\n\u001b[1;32m---> 21\u001b[0m \u001b[38;5;28;01mwith\u001b[39;00m \u001b[43mgr\u001b[49m\u001b[38;5;241;43m.\u001b[39;49m\u001b[43mBlocks\u001b[49m() \u001b[38;5;28;01mas\u001b[39;00m demo:\n\u001b[0;32m     22\u001b[0m     state \u001b[38;5;241m=\u001b[39m gr\u001b[38;5;241m.\u001b[39mState(value\u001b[38;5;241m=\u001b[39m{})\n\u001b[0;32m     23\u001b[0m     count_state \u001b[38;5;241m=\u001b[39m gr\u001b[38;5;241m.\u001b[39mState(value\u001b[38;5;241m=\u001b[39m\u001b[38;5;241m0\u001b[39m)\n",
      "\u001b[1;31mAttributeError\u001b[0m: module 'gradio' has no attribute 'Blocks'"
     ]
    }
   ],
   "source": [
    "# Dict version\n",
    "\n",
    "import gradio as gr\n",
    "from typing import List, Dict\n",
    "\n",
    "def store_message(message: str, history: Dict[str, str], count: int):\n",
    "    output = {\n",
    "        \"Current messages\": message,\n",
    "        \"Previous messages\": history\n",
    "    }\n",
    "    history[str(count)] = message\n",
    "    count += 1\n",
    "    return output, history, count\n",
    "\n",
    "def clear_history():\n",
    "    return {}, {}, 0\n",
    "\n",
    "def update(message: str, history: Dict[str, str], count: int):\n",
    "    return store_message(message, history, count)\n",
    "\n",
    "with gr.Blocks() as demo:\n",
    "    state = gr.State(value={})\n",
    "    count_state = gr.State(value=0)\n",
    "    \n",
    "    with gr.Row(equal_height=True):\n",
    "        with gr.Column(scale=1):\n",
    "            textbox = gr.Textbox(label=\"Enter message\")\n",
    "            with gr.Row():\n",
    "                submit_btn = gr.Button(\"Submit\")\n",
    "                clear_btn = gr.Button(\"Clear\")\n",
    "        with gr.Column(scale=1):\n",
    "            output = gr.JSON(label=\"Output\")\n",
    "\n",
    "    submit_btn.click(update, inputs=[textbox, state, count_state], outputs=[output, state, count_state])\n",
    "    clear_btn.click(clear_history, inputs=[], outputs=[output, state, count_state])\n",
    "    textbox.submit(update, inputs=[textbox, state, count_state], outputs=[output, state, count_state])\n",
    "\n",
    "demo.launch()"
   ]
  },
  {
   "cell_type": "markdown",
   "metadata": {},
   "source": [
    "# State Testing(Chat)"
   ]
  },
  {
   "cell_type": "markdown",
   "metadata": {},
   "source": [
    "## Gradio ChatInterface"
   ]
  },
  {
   "cell_type": "code",
   "execution_count": null,
   "metadata": {},
   "outputs": [],
   "source": [
    "import gradio as gr\n",
    "import random"
   ]
  },
  {
   "cell_type": "code",
   "execution_count": null,
   "metadata": {},
   "outputs": [],
   "source": [
    "def yes_man(message, history):\n",
    "    if message.endswith(\"?\"):\n",
    "        return \"Yes\"\n",
    "    else:\n",
    "        return \"Ask me anything!\"\n",
    "\n",
    "gr.ChatInterface(\n",
    "    yes_man,\n",
    "    chatbot=gr.Chatbot(height=300),\n",
    "    textbox=gr.Textbox(placeholder=\"Ask me a yes or no question\", container=False, scale=7),\n",
    "    title=\"Yes Man\",\n",
    "    description=\"Ask Yes Man any question\",\n",
    "    theme=\"soft\",\n",
    "    examples=[\"Hello\", \"Am I cool?\", \"Are tomatoes vegetables?\"],\n",
    "    cache_examples=True,\n",
    "    retry_btn=None,\n",
    "    undo_btn=\"Delete Previous\",\n",
    "    clear_btn=\"Clear\",\n",
    ").launch()"
   ]
  },
  {
   "cell_type": "markdown",
   "metadata": {},
   "source": [
    "## Gradio Block"
   ]
  },
  {
   "cell_type": "code",
   "execution_count": 5,
   "metadata": {},
   "outputs": [
    {
     "ename": "AttributeError",
     "evalue": "module 'gradio' has no attribute 'Blocks'",
     "output_type": "error",
     "traceback": [
      "\u001b[1;31m---------------------------------------------------------------------------\u001b[0m",
      "\u001b[1;31mAttributeError\u001b[0m                            Traceback (most recent call last)",
      "Cell \u001b[1;32mIn[5], line 9\u001b[0m\n\u001b[0;32m      6\u001b[0m     \u001b[38;5;28;01melse\u001b[39;00m:\n\u001b[0;32m      7\u001b[0m         \u001b[38;5;28;01mreturn\u001b[39;00m \u001b[38;5;124m\"\u001b[39m\u001b[38;5;124mAsk me anything!\u001b[39m\u001b[38;5;124m\"\u001b[39m\n\u001b[1;32m----> 9\u001b[0m \u001b[38;5;28;01mwith\u001b[39;00m \u001b[43mgr\u001b[49m\u001b[38;5;241;43m.\u001b[39;49m\u001b[43mBlocks\u001b[49m() \u001b[38;5;28;01mas\u001b[39;00m demo:\n\u001b[0;32m     10\u001b[0m     gr\u001b[38;5;241m.\u001b[39mMarkdown(\u001b[38;5;124m\"\u001b[39m\u001b[38;5;124m## 👇 Choose any model to chat\u001b[39m\u001b[38;5;124m\"\u001b[39m)\n\u001b[0;32m     12\u001b[0m     chatbot \u001b[38;5;241m=\u001b[39m gr\u001b[38;5;241m.\u001b[39mChatbot(height\u001b[38;5;241m=\u001b[39m\u001b[38;5;241m300\u001b[39m)\n",
      "\u001b[1;31mAttributeError\u001b[0m: module 'gradio' has no attribute 'Blocks'"
     ]
    }
   ],
   "source": [
    "import gradio as gr\n",
    "\n",
    "def yes_man(message, history):\n",
    "    if message.endswith(\"?\"):\n",
    "        return \"Yes\"\n",
    "    else:\n",
    "        return \"Ask me anything!\"\n",
    "\n",
    "with gr.Blocks() as demo:\n",
    "    gr.Markdown(\"## 👇 Choose any model to chat\")\n",
    "\n",
    "    chatbot = gr.Chatbot(height=300)\n",
    "    with gr.Row():\n",
    "        delete_pre = gr.Button(\"Delete Previous\")\n",
    "        clear = gr.Button(\"Clear\")\n",
    "\n",
    "    with gr.Row():\n",
    "        msg = gr.Textbox(placeholder=\"Ask me a yes or no question\", container=False, scale=7)\n",
    "        submit_btn = gr.Button(\"Submit\")\n",
    "\n",
    "    examples = [\"Hello\", \"Am I cool?\", \"Are tomatoes vegetables?\"]\n",
    "    \n",
    "    with gr.Row():\n",
    "        for example in examples:\n",
    "            gr.Button(example).click(lambda x=example: x, outputs=msg)\n",
    "\n",
    "    def user(user_message, history):\n",
    "        return \"\", history + [[user_message, None]]\n",
    "\n",
    "    def bot(history):\n",
    "        user_message = history[-1][0]\n",
    "        bot_message = yes_man(user_message, history)\n",
    "        history[-1][1] = \"\"\n",
    "        for character in bot_message:\n",
    "            history[-1][1] += character\n",
    "            yield history\n",
    "\n",
    "    def delete_previous(history):\n",
    "        if history:\n",
    "            history.pop()\n",
    "        return history\n",
    "\n",
    "    msg.submit(user, [msg, chatbot], [msg, chatbot], queue=False).then(\n",
    "        bot, chatbot, chatbot\n",
    "    )\n",
    "    submit_btn.click(user, [msg, chatbot], [msg, chatbot], queue=False).then(\n",
    "        bot, chatbot, chatbot\n",
    "    )\n",
    "    delete_pre.click(delete_previous, chatbot, chatbot, queue=False)\n",
    "    clear.click(lambda: [], None, chatbot, queue=False)\n",
    "\n",
    "demo.queue()\n",
    "demo.launch()\n"
   ]
  },
  {
   "cell_type": "markdown",
   "metadata": {},
   "source": [
    "## Streaming"
   ]
  },
  {
   "cell_type": "markdown",
   "metadata": {},
   "source": [
    "### Gradio Chatinterface"
   ]
  },
  {
   "cell_type": "code",
   "execution_count": null,
   "metadata": {},
   "outputs": [],
   "source": [
    "import gradio as gr\n",
    "import time\n",
    "\n",
    "\n",
    "def yes_man(message):\n",
    "    if message.endswith(\"?\"):\n",
    "        return \"Yes\"\n",
    "    else:\n",
    "        return \"Ask me anything!\"\n",
    "    \n",
    "def bot(user_message, history):\n",
    "    bot_message = yes_man(user_message)\n",
    "    partial_message = \"\"\n",
    "    for response in bot_message:\n",
    "        partial_message += response\n",
    "        time.sleep(0.02)\n",
    "        yield partial_message\n",
    "\n",
    "gr.ChatInterface(\n",
    "    bot,\n",
    "    chatbot=gr.Chatbot(height=300),\n",
    "    textbox=gr.Textbox(placeholder=\"Ask me a yes or no question\", container=False, scale=7),\n",
    "    title=\"Yes Man\",\n",
    "    description=\"Ask Yes Man any question\",\n",
    "    theme=\"soft\",\n",
    "    examples=[\"Hello\", \"Am I cool?\", \"Are tomatoes vegetables?\"],\n",
    "    cache_examples=True,\n",
    "    retry_btn=None,\n",
    "    undo_btn=\"Delete Previous\",\n",
    "    clear_btn=\"Clear\",\n",
    ").launch()"
   ]
  },
  {
   "cell_type": "markdown",
   "metadata": {},
   "source": [
    "### Gradio Block"
   ]
  },
  {
   "cell_type": "code",
   "execution_count": null,
   "metadata": {},
   "outputs": [],
   "source": [
    "import gradio as gr\n",
    "import random\n",
    "import time\n",
    "\n",
    "def yes_man(message, history):\n",
    "    if message.endswith(\"?\"):\n",
    "        return \"Yes\"\n",
    "    else:\n",
    "        return \"Ask me anything!\"\n",
    "\n",
    "with gr.Blocks() as demo:\n",
    "    gr.Markdown(\"## 👇 Choose any model to chat\")\n",
    "\n",
    "    chatbot = gr.Chatbot(height=300)\n",
    "    with gr.Row():\n",
    "        delete_pre = gr.Button(\"Delete Previous\")\n",
    "        clear = gr.Button(\"Clear\")\n",
    "\n",
    "    with gr.Row():\n",
    "        msg = gr.Textbox(placeholder=\"Ask me a yes or no question\", container=False, scale=7)\n",
    "        submit_btn = gr.Button(\"Submit\")\n",
    "\n",
    "    examples = [\"Hello\", \"Am I cool?\", \"Are tomatoes vegetables?\"]\n",
    "    \n",
    "    with gr.Row():\n",
    "        for example in examples:\n",
    "            gr.Button(example).click(lambda x=example: x, outputs=msg)\n",
    "\n",
    "    def user(user_message, history):\n",
    "        return \"\", history + [[user_message, None]]\n",
    "\n",
    "    def bot(history):\n",
    "        user_message = history[-1][0]\n",
    "        bot_message = yes_man(user_message, history)\n",
    "        history[-1][1] = \"\"\n",
    "        for character in bot_message:\n",
    "            history[-1][1] += character\n",
    "            time.sleep(0.05)\n",
    "            yield history\n",
    "\n",
    "    def delete_previous(history):\n",
    "        if history:\n",
    "            history.pop()\n",
    "        return history\n",
    "\n",
    "    msg.submit(user, [msg, chatbot], [msg, chatbot], queue=False).then(\n",
    "        bot, chatbot, chatbot\n",
    "    )\n",
    "    submit_btn.click(user, [msg, chatbot], [msg, chatbot], queue=False).then(\n",
    "        bot, chatbot, chatbot\n",
    "    )\n",
    "    delete_pre.click(delete_previous, chatbot, chatbot, queue=False)\n",
    "    clear.click(lambda: [], None, chatbot, queue=False)\n",
    "\n",
    "demo.queue()\n",
    "demo.launch()\n"
   ]
  },
  {
   "cell_type": "markdown",
   "metadata": {},
   "source": [
    "# With LLM chat completions"
   ]
  },
  {
   "cell_type": "markdown",
   "metadata": {},
   "source": [
    "## LangChain"
   ]
  },
  {
   "cell_type": "markdown",
   "metadata": {},
   "source": [
    "### gr.ChatInterface"
   ]
  },
  {
   "cell_type": "markdown",
   "metadata": {},
   "source": [
    "### gr.Block"
   ]
  },
  {
   "cell_type": "markdown",
   "metadata": {},
   "source": []
  },
  {
   "cell_type": "markdown",
   "metadata": {},
   "source": [
    "# Image"
   ]
  },
  {
   "cell_type": "code",
   "execution_count": 30,
   "metadata": {},
   "outputs": [
    {
     "name": "stdout",
     "output_type": "stream",
     "text": [
      "Running on local URL:  http://127.0.0.1:7901\n",
      "\n",
      "To create a public link, set `share=True` in `launch()`.\n"
     ]
    },
    {
     "data": {
      "text/html": [
       "<div><iframe src=\"http://127.0.0.1:7901/\" width=\"100%\" height=\"500\" allow=\"autoplay; camera; microphone; clipboard-read; clipboard-write;\" frameborder=\"0\" allowfullscreen></iframe></div>"
      ],
      "text/plain": [
       "<IPython.core.display.HTML object>"
      ]
     },
     "metadata": {},
     "output_type": "display_data"
    },
    {
     "data": {
      "text/plain": []
     },
     "execution_count": 30,
     "metadata": {},
     "output_type": "execute_result"
    }
   ],
   "source": [
    "import gradio as gr\n",
    "import random\n",
    "import time\n",
    "import numpy as np\n",
    "\n",
    "def fake_diffusion(message):\n",
    "    rng = np.random.default_rng()\n",
    "    if len(message) < 5:\n",
    "        image = rng.random(size=(50, 50, 3))\n",
    "    else:\n",
    "        image = rng.random(size=(200, 200, 3))\n",
    "    return image\n",
    "\n",
    "with gr.Blocks() as demo:\n",
    "    gr.Markdown(\"## 👇 Choose any model to chat\")\n",
    "\n",
    "    image = gr.Image(interactive=False)\n",
    "\n",
    "    with gr.Row():\n",
    "        msg = gr.Textbox(placeholder=\"Ask me a yes or no question\", container=False, scale=7)\n",
    "        submit_btn = gr.Button(\"Submit\")\n",
    "\n",
    "    msg.submit(fake_diffusion, [msg], [image], queue=False)\n",
    "    submit_btn.click(fake_diffusion, [msg], [image], queue=False)\n",
    "\n",
    "demo.queue()\n",
    "demo.launch()"
   ]
  },
  {
   "cell_type": "markdown",
   "metadata": {},
   "source": [
    "# Markdown"
   ]
  },
  {
   "cell_type": "code",
   "execution_count": 1,
   "metadata": {},
   "outputs": [
    {
     "ename": "AttributeError",
     "evalue": "module 'gradio' has no attribute 'Blocks'",
     "output_type": "error",
     "traceback": [
      "\u001b[1;31m---------------------------------------------------------------------------\u001b[0m",
      "\u001b[1;31mAttributeError\u001b[0m                            Traceback (most recent call last)",
      "Cell \u001b[1;32mIn[1], line 6\u001b[0m\n\u001b[0;32m      3\u001b[0m \u001b[38;5;28;01mdef\u001b[39;00m \u001b[38;5;21mwelcome\u001b[39m(name):\n\u001b[0;32m      4\u001b[0m     \u001b[38;5;28;01mreturn\u001b[39;00m \u001b[38;5;124mf\u001b[39m\u001b[38;5;124m\"\u001b[39m\u001b[38;5;124mWelcome to Gradio, \u001b[39m\u001b[38;5;132;01m{\u001b[39;00mname\u001b[38;5;132;01m}\u001b[39;00m\u001b[38;5;124m!\u001b[39m\u001b[38;5;124m\"\u001b[39m\n\u001b[1;32m----> 6\u001b[0m \u001b[38;5;28;01mwith\u001b[39;00m \u001b[43mgr\u001b[49m\u001b[38;5;241;43m.\u001b[39;49m\u001b[43mBlocks\u001b[49m() \u001b[38;5;28;01mas\u001b[39;00m demo:\n\u001b[0;32m      7\u001b[0m     mark \u001b[38;5;241m=\u001b[39m gr\u001b[38;5;241m.\u001b[39mMarkdown(\n\u001b[0;32m      8\u001b[0m \u001b[38;5;250m    \u001b[39m\u001b[38;5;124;03m\"\"\"\u001b[39;00m\n\u001b[0;32m      9\u001b[0m \u001b[38;5;124;03m    # Hello World!\u001b[39;00m\n\u001b[0;32m     10\u001b[0m \u001b[38;5;124;03m    Start typing below to see the output.\u001b[39;00m\n\u001b[0;32m     11\u001b[0m \u001b[38;5;124;03m    \"\"\"\u001b[39;00m)\n\u001b[0;32m     12\u001b[0m     inp \u001b[38;5;241m=\u001b[39m gr\u001b[38;5;241m.\u001b[39mTextbox(placeholder\u001b[38;5;241m=\u001b[39m\u001b[38;5;124m\"\u001b[39m\u001b[38;5;124mWhat is your name?\u001b[39m\u001b[38;5;124m\"\u001b[39m)\n",
      "\u001b[1;31mAttributeError\u001b[0m: module 'gradio' has no attribute 'Blocks'"
     ]
    }
   ],
   "source": [
    "import gradio as gr\n",
    "\n",
    "def welcome(name):\n",
    "    return f\"Welcome to Gradio, {name}!\"\n",
    "\n",
    "with gr.Blocks() as demo:\n",
    "    mark = gr.Markdown(\n",
    "    \"\"\"\n",
    "    # Hello World!\n",
    "    Start typing below to see the output.\n",
    "    \"\"\")\n",
    "    inp = gr.Textbox(placeholder=\"What is your name?\")\n",
    "    out = gr.Textbox()\n",
    "    inp.change(welcome, inp, out)\n",
    "\n",
    "demo.launch()"
   ]
  },
  {
   "cell_type": "markdown",
   "metadata": {},
   "source": [
    "# Dynamic Layout"
   ]
  },
  {
   "cell_type": "code",
   "execution_count": 1,
   "metadata": {},
   "outputs": [],
   "source": [
    "import gradio as gr\n",
    "import requests\n",
    "from PIL import Image\n",
    "from io import BytesIO\n",
    "\n",
    "# Function to call the Stable Diffusion API\n",
    "def generate_image(prompt_text, prompt_weight, height, width, cfg_scale, clip_guidance_preset, sampler, samples, seed, steps, style_preset):\n",
    "    api_url = \"YOUR_STABLE_DIFFUSION_API_ENDPOINT\"\n",
    "    api_key = \"YOUR_API_KEY\"  # If the API requires authentication\n",
    "\n",
    "    # Prepare the payload for the API request\n",
    "    payload = {\n",
    "        \"text_prompts\": [\n",
    "            {\n",
    "                \"text\": prompt_text,\n",
    "                \"weight\": prompt_weight\n",
    "            }\n",
    "        ],\n",
    "        \"height\": height,\n",
    "        \"width\": width,\n",
    "        \"cfg_scale\": cfg_scale,\n",
    "        \"clip_guidance_preset\": clip_guidance_preset,\n",
    "        \"sampler\": sampler,\n",
    "        \"samples\": samples,\n",
    "        \"seed\": seed,\n",
    "        \"steps\": steps,\n",
    "        \"style_preset\": style_preset\n",
    "    }\n",
    "\n",
    "    # Headers for the API request, if needed\n",
    "    headers = {\n",
    "        \"Authorization\": f\"Bearer {api_key}\",\n",
    "        \"Content-Type\": \"application/json\"\n",
    "    }\n",
    "\n",
    "    # Make the API request\n",
    "    response = requests.post(api_url, json=payload, headers=headers)\n",
    "\n",
    "    if response.status_code == 200:\n",
    "        # Process the API response\n",
    "        image_data = response.json().get('image')\n",
    "        image = Image.open(BytesIO(image_data))\n",
    "        return image\n",
    "    else:\n",
    "        return f\"Error: {response.status_code}, {response.text}\""
   ]
  },
  {
   "cell_type": "code",
   "execution_count": 35,
   "metadata": {},
   "outputs": [
    {
     "name": "stdout",
     "output_type": "stream",
     "text": [
      "Running on local URL:  http://127.0.0.1:7903\n",
      "\n",
      "To create a public link, set `share=True` in `launch()`.\n"
     ]
    },
    {
     "data": {
      "text/html": [
       "<div><iframe src=\"http://127.0.0.1:7903/\" width=\"100%\" height=\"500\" allow=\"autoplay; camera; microphone; clipboard-read; clipboard-write;\" frameborder=\"0\" allowfullscreen></iframe></div>"
      ],
      "text/plain": [
       "<IPython.core.display.HTML object>"
      ]
     },
     "metadata": {},
     "output_type": "display_data"
    },
    {
     "data": {
      "text/plain": []
     },
     "execution_count": 35,
     "metadata": {},
     "output_type": "execute_result"
    }
   ],
   "source": [
    "interface = gr.Interface(\n",
    "    fn=generate_image,\n",
    "    inputs=[\n",
    "        gr.Textbox(label=\"Prompt Text\", lines=2, placeholder=\"Enter your prompt here...\"),\n",
    "        gr.Slider(label=\"Prompt Weight\", minimum=0.0, maximum=1.0, value=0.5),\n",
    "        gr.Slider(label=\"Height\", minimum=128, maximum=1024, step=64, value=512),\n",
    "        gr.Slider(label=\"Width\", minimum=128, maximum=1024, step=64, value=512),\n",
    "        gr.Slider(label=\"CFG Scale\", minimum=0, maximum=35, step=0.1, value=7),\n",
    "        gr.Dropdown(label=\"Clip Guidance Preset\", choices=[\"FAST_BLUE\", \"FAST_GREEN\", \"NONE\", \"SIMPLE\", \"SLOW\", \"SLOWER\", \"SLOWEST\"], value=\"NONE\"),\n",
    "        gr.Dropdown(label=\"Sampler\", choices=[\"DDIM\", \"DDPM\", \"K_DPMPP_2M\", \"K_DPMPP_2S_ANCESTRAL\", \"K_DPM_2\", \"K_DPM_2_ANCESTRAL\", \"K_EULER\", \"K_EULER_ANCESTRAL\", \"K_HEUN\", \"K_LMS\"], value=\"K_EULER\"),\n",
    "        gr.Slider(label=\"Samples\", minimum=1, maximum=10, step=1, value=1),\n",
    "        gr.Slider(label=\"Seed\", minimum=0, maximum=4294967295, step=1, value=0),\n",
    "        gr.Slider(label=\"Steps\", minimum=10, maximum=50, step=1, value=30),\n",
    "        gr.Dropdown(label=\"Style Preset\", choices=[\"3d-model\", \"analog-film\", \"anime\", \"cinematic\", \"comic-book\", \"digital-art\", \"enhance\", \"fantasy-art\", \"isometric\", \"line-art\", \"low-poly\", \"modeling-compound\", \"neon-punk\", \"origami\", \"photographic\", \"pixel-art\", \"tile-texture\"], value=\"photographic\")\n",
    "    ],\n",
    "    outputs=\"image\",\n",
    "    title=\"Stable Diffusion Image Generator\",\n",
    "    description=\"Generate images using Stable Diffusion. Adjust the parameters and enter a prompt to get started.\"\n",
    ")\n",
    "interface.launch()"
   ]
  },
  {
   "cell_type": "code",
   "execution_count": 2,
   "metadata": {},
   "outputs": [
    {
     "ename": "AttributeError",
     "evalue": "module 'gradio' has no attribute 'Interface'",
     "output_type": "error",
     "traceback": [
      "\u001b[1;31m---------------------------------------------------------------------------\u001b[0m",
      "\u001b[1;31mAttributeError\u001b[0m                            Traceback (most recent call last)",
      "Cell \u001b[1;32mIn[2], line 1\u001b[0m\n\u001b[1;32m----> 1\u001b[0m interface \u001b[38;5;241m=\u001b[39m \u001b[43mgr\u001b[49m\u001b[38;5;241;43m.\u001b[39;49m\u001b[43mInterface\u001b[49m(\n\u001b[0;32m      2\u001b[0m     fn\u001b[38;5;241m=\u001b[39mgenerate_image,\n\u001b[0;32m      3\u001b[0m     inputs\u001b[38;5;241m=\u001b[39m[\n\u001b[0;32m      4\u001b[0m         gr\u001b[38;5;241m.\u001b[39mTextbox(label\u001b[38;5;241m=\u001b[39m\u001b[38;5;124m\"\u001b[39m\u001b[38;5;124mPrompt\u001b[39m\u001b[38;5;124m\"\u001b[39m, lines\u001b[38;5;241m=\u001b[39m\u001b[38;5;241m2\u001b[39m, placeholder\u001b[38;5;241m=\u001b[39m\u001b[38;5;124m\"\u001b[39m\u001b[38;5;124mEnter your prompt here...\u001b[39m\u001b[38;5;124m\"\u001b[39m),\n\u001b[0;32m      5\u001b[0m         gr\u001b[38;5;241m.\u001b[39mTextbox(label\u001b[38;5;241m=\u001b[39m\u001b[38;5;124m\"\u001b[39m\u001b[38;5;124mNegative Prompt\u001b[39m\u001b[38;5;124m\"\u001b[39m, lines\u001b[38;5;241m=\u001b[39m\u001b[38;5;241m2\u001b[39m, placeholder\u001b[38;5;241m=\u001b[39m\u001b[38;5;124m\"\u001b[39m\u001b[38;5;124mDescribe what you do not wish to see in the output image...\u001b[39m\u001b[38;5;124m\"\u001b[39m),\n\u001b[0;32m      6\u001b[0m         gr\u001b[38;5;241m.\u001b[39mDropdown(label\u001b[38;5;241m=\u001b[39m\u001b[38;5;124m\"\u001b[39m\u001b[38;5;124mAspect Ratio\u001b[39m\u001b[38;5;124m\"\u001b[39m, choices\u001b[38;5;241m=\u001b[39m[\u001b[38;5;124m\"\u001b[39m\u001b[38;5;124m16:9\u001b[39m\u001b[38;5;124m\"\u001b[39m, \u001b[38;5;124m\"\u001b[39m\u001b[38;5;124m1:1\u001b[39m\u001b[38;5;124m\"\u001b[39m, \u001b[38;5;124m\"\u001b[39m\u001b[38;5;124m21:9\u001b[39m\u001b[38;5;124m\"\u001b[39m, \u001b[38;5;124m\"\u001b[39m\u001b[38;5;124m2:3\u001b[39m\u001b[38;5;124m\"\u001b[39m, \u001b[38;5;124m\"\u001b[39m\u001b[38;5;124m3:2\u001b[39m\u001b[38;5;124m\"\u001b[39m, \u001b[38;5;124m\"\u001b[39m\u001b[38;5;124m4:5\u001b[39m\u001b[38;5;124m\"\u001b[39m, \u001b[38;5;124m\"\u001b[39m\u001b[38;5;124m5:4\u001b[39m\u001b[38;5;124m\"\u001b[39m, \u001b[38;5;124m\"\u001b[39m\u001b[38;5;124m9:16\u001b[39m\u001b[38;5;124m\"\u001b[39m, \u001b[38;5;124m\"\u001b[39m\u001b[38;5;124m9:21\u001b[39m\u001b[38;5;124m\"\u001b[39m], value\u001b[38;5;241m=\u001b[39m\u001b[38;5;124m\"\u001b[39m\u001b[38;5;124m1:1\u001b[39m\u001b[38;5;124m\"\u001b[39m),\n\u001b[0;32m      7\u001b[0m         gr\u001b[38;5;241m.\u001b[39mSlider(label\u001b[38;5;241m=\u001b[39m\u001b[38;5;124m\"\u001b[39m\u001b[38;5;124mHeight\u001b[39m\u001b[38;5;124m\"\u001b[39m, minimum\u001b[38;5;241m=\u001b[39m\u001b[38;5;241m128\u001b[39m, maximum\u001b[38;5;241m=\u001b[39m\u001b[38;5;241m1024\u001b[39m, step\u001b[38;5;241m=\u001b[39m\u001b[38;5;241m64\u001b[39m, value\u001b[38;5;241m=\u001b[39m\u001b[38;5;241m512\u001b[39m),\n\u001b[0;32m      8\u001b[0m         gr\u001b[38;5;241m.\u001b[39mSlider(label\u001b[38;5;241m=\u001b[39m\u001b[38;5;124m\"\u001b[39m\u001b[38;5;124mWidth\u001b[39m\u001b[38;5;124m\"\u001b[39m, minimum\u001b[38;5;241m=\u001b[39m\u001b[38;5;241m128\u001b[39m, maximum\u001b[38;5;241m=\u001b[39m\u001b[38;5;241m1024\u001b[39m, step\u001b[38;5;241m=\u001b[39m\u001b[38;5;241m64\u001b[39m, value\u001b[38;5;241m=\u001b[39m\u001b[38;5;241m512\u001b[39m),\n\u001b[0;32m      9\u001b[0m         gr\u001b[38;5;241m.\u001b[39mSlider(label\u001b[38;5;241m=\u001b[39m\u001b[38;5;124m\"\u001b[39m\u001b[38;5;124mCFG Scale\u001b[39m\u001b[38;5;124m\"\u001b[39m, minimum\u001b[38;5;241m=\u001b[39m\u001b[38;5;241m0\u001b[39m, maximum\u001b[38;5;241m=\u001b[39m\u001b[38;5;241m35\u001b[39m, step\u001b[38;5;241m=\u001b[39m\u001b[38;5;241m0.1\u001b[39m, value\u001b[38;5;241m=\u001b[39m\u001b[38;5;241m7\u001b[39m),\n\u001b[0;32m     10\u001b[0m         gr\u001b[38;5;241m.\u001b[39mDropdown(label\u001b[38;5;241m=\u001b[39m\u001b[38;5;124m\"\u001b[39m\u001b[38;5;124mClip Guidance Preset\u001b[39m\u001b[38;5;124m\"\u001b[39m, choices\u001b[38;5;241m=\u001b[39m[\u001b[38;5;124m\"\u001b[39m\u001b[38;5;124mFAST_BLUE\u001b[39m\u001b[38;5;124m\"\u001b[39m, \u001b[38;5;124m\"\u001b[39m\u001b[38;5;124mFAST_GREEN\u001b[39m\u001b[38;5;124m\"\u001b[39m, \u001b[38;5;124m\"\u001b[39m\u001b[38;5;124mNONE\u001b[39m\u001b[38;5;124m\"\u001b[39m, \u001b[38;5;124m\"\u001b[39m\u001b[38;5;124mSIMPLE\u001b[39m\u001b[38;5;124m\"\u001b[39m, \u001b[38;5;124m\"\u001b[39m\u001b[38;5;124mSLOW\u001b[39m\u001b[38;5;124m\"\u001b[39m, \u001b[38;5;124m\"\u001b[39m\u001b[38;5;124mSLOWER\u001b[39m\u001b[38;5;124m\"\u001b[39m, \u001b[38;5;124m\"\u001b[39m\u001b[38;5;124mSLOWEST\u001b[39m\u001b[38;5;124m\"\u001b[39m], value\u001b[38;5;241m=\u001b[39m\u001b[38;5;124m\"\u001b[39m\u001b[38;5;124mNONE\u001b[39m\u001b[38;5;124m\"\u001b[39m),\n\u001b[0;32m     11\u001b[0m         gr\u001b[38;5;241m.\u001b[39mDropdown(label\u001b[38;5;241m=\u001b[39m\u001b[38;5;124m\"\u001b[39m\u001b[38;5;124mSampler\u001b[39m\u001b[38;5;124m\"\u001b[39m, choices\u001b[38;5;241m=\u001b[39m[\u001b[38;5;124m\"\u001b[39m\u001b[38;5;124mDDIM\u001b[39m\u001b[38;5;124m\"\u001b[39m, \u001b[38;5;124m\"\u001b[39m\u001b[38;5;124mDDPM\u001b[39m\u001b[38;5;124m\"\u001b[39m, \u001b[38;5;124m\"\u001b[39m\u001b[38;5;124mK_DPMPP_2M\u001b[39m\u001b[38;5;124m\"\u001b[39m, \u001b[38;5;124m\"\u001b[39m\u001b[38;5;124mK_DPMPP_2S_ANCESTRAL\u001b[39m\u001b[38;5;124m\"\u001b[39m, \u001b[38;5;124m\"\u001b[39m\u001b[38;5;124mK_DPM_2\u001b[39m\u001b[38;5;124m\"\u001b[39m, \u001b[38;5;124m\"\u001b[39m\u001b[38;5;124mK_DPM_2_ANCESTRAL\u001b[39m\u001b[38;5;124m\"\u001b[39m, \u001b[38;5;124m\"\u001b[39m\u001b[38;5;124mK_EULER\u001b[39m\u001b[38;5;124m\"\u001b[39m, \u001b[38;5;124m\"\u001b[39m\u001b[38;5;124mK_EULER_ANCESTRAL\u001b[39m\u001b[38;5;124m\"\u001b[39m, \u001b[38;5;124m\"\u001b[39m\u001b[38;5;124mK_HEUN\u001b[39m\u001b[38;5;124m\"\u001b[39m, \u001b[38;5;124m\"\u001b[39m\u001b[38;5;124mK_LMS\u001b[39m\u001b[38;5;124m\"\u001b[39m], value\u001b[38;5;241m=\u001b[39m\u001b[38;5;124m\"\u001b[39m\u001b[38;5;124mK_EULER\u001b[39m\u001b[38;5;124m\"\u001b[39m),\n\u001b[0;32m     12\u001b[0m         gr\u001b[38;5;241m.\u001b[39mSlider(label\u001b[38;5;241m=\u001b[39m\u001b[38;5;124m\"\u001b[39m\u001b[38;5;124mSamples\u001b[39m\u001b[38;5;124m\"\u001b[39m, minimum\u001b[38;5;241m=\u001b[39m\u001b[38;5;241m1\u001b[39m, maximum\u001b[38;5;241m=\u001b[39m\u001b[38;5;241m10\u001b[39m, step\u001b[38;5;241m=\u001b[39m\u001b[38;5;241m1\u001b[39m, value\u001b[38;5;241m=\u001b[39m\u001b[38;5;241m1\u001b[39m),\n\u001b[0;32m     13\u001b[0m         gr\u001b[38;5;241m.\u001b[39mSlider(label\u001b[38;5;241m=\u001b[39m\u001b[38;5;124m\"\u001b[39m\u001b[38;5;124mSeed\u001b[39m\u001b[38;5;124m\"\u001b[39m, minimum\u001b[38;5;241m=\u001b[39m\u001b[38;5;241m0\u001b[39m, maximum\u001b[38;5;241m=\u001b[39m\u001b[38;5;241m4294967294\u001b[39m, step\u001b[38;5;241m=\u001b[39m\u001b[38;5;241m1\u001b[39m, value\u001b[38;5;241m=\u001b[39m\u001b[38;5;241m0\u001b[39m),\n\u001b[0;32m     14\u001b[0m         gr\u001b[38;5;241m.\u001b[39mSlider(label\u001b[38;5;241m=\u001b[39m\u001b[38;5;124m\"\u001b[39m\u001b[38;5;124mSteps\u001b[39m\u001b[38;5;124m\"\u001b[39m, minimum\u001b[38;5;241m=\u001b[39m\u001b[38;5;241m10\u001b[39m, maximum\u001b[38;5;241m=\u001b[39m\u001b[38;5;241m50\u001b[39m, step\u001b[38;5;241m=\u001b[39m\u001b[38;5;241m1\u001b[39m, value\u001b[38;5;241m=\u001b[39m\u001b[38;5;241m30\u001b[39m),\n\u001b[0;32m     15\u001b[0m         gr\u001b[38;5;241m.\u001b[39mDropdown(label\u001b[38;5;241m=\u001b[39m\u001b[38;5;124m\"\u001b[39m\u001b[38;5;124mStyle Preset\u001b[39m\u001b[38;5;124m\"\u001b[39m, choices\u001b[38;5;241m=\u001b[39m[\u001b[38;5;124m\"\u001b[39m\u001b[38;5;124m3d-model\u001b[39m\u001b[38;5;124m\"\u001b[39m, \u001b[38;5;124m\"\u001b[39m\u001b[38;5;124manalog-film\u001b[39m\u001b[38;5;124m\"\u001b[39m, \u001b[38;5;124m\"\u001b[39m\u001b[38;5;124manime\u001b[39m\u001b[38;5;124m\"\u001b[39m, \u001b[38;5;124m\"\u001b[39m\u001b[38;5;124mcinematic\u001b[39m\u001b[38;5;124m\"\u001b[39m, \u001b[38;5;124m\"\u001b[39m\u001b[38;5;124mcomic-book\u001b[39m\u001b[38;5;124m\"\u001b[39m, \u001b[38;5;124m\"\u001b[39m\u001b[38;5;124mdigital-art\u001b[39m\u001b[38;5;124m\"\u001b[39m, \u001b[38;5;124m\"\u001b[39m\u001b[38;5;124menhance\u001b[39m\u001b[38;5;124m\"\u001b[39m, \u001b[38;5;124m\"\u001b[39m\u001b[38;5;124mfantasy-art\u001b[39m\u001b[38;5;124m\"\u001b[39m, \u001b[38;5;124m\"\u001b[39m\u001b[38;5;124misometric\u001b[39m\u001b[38;5;124m\"\u001b[39m, \u001b[38;5;124m\"\u001b[39m\u001b[38;5;124mline-art\u001b[39m\u001b[38;5;124m\"\u001b[39m, \u001b[38;5;124m\"\u001b[39m\u001b[38;5;124mlow-poly\u001b[39m\u001b[38;5;124m\"\u001b[39m, \u001b[38;5;124m\"\u001b[39m\u001b[38;5;124mmodeling-compound\u001b[39m\u001b[38;5;124m\"\u001b[39m, \u001b[38;5;124m\"\u001b[39m\u001b[38;5;124mneon-punk\u001b[39m\u001b[38;5;124m\"\u001b[39m, \u001b[38;5;124m\"\u001b[39m\u001b[38;5;124morigami\u001b[39m\u001b[38;5;124m\"\u001b[39m, \u001b[38;5;124m\"\u001b[39m\u001b[38;5;124mphotographic\u001b[39m\u001b[38;5;124m\"\u001b[39m, \u001b[38;5;124m\"\u001b[39m\u001b[38;5;124mpixel-art\u001b[39m\u001b[38;5;124m\"\u001b[39m, \u001b[38;5;124m\"\u001b[39m\u001b[38;5;124mtile-texture\u001b[39m\u001b[38;5;124m\"\u001b[39m], value\u001b[38;5;241m=\u001b[39m\u001b[38;5;124m\"\u001b[39m\u001b[38;5;124mphotographic\u001b[39m\u001b[38;5;124m\"\u001b[39m),\n\u001b[0;32m     16\u001b[0m         gr\u001b[38;5;241m.\u001b[39mDropdown(label\u001b[38;5;241m=\u001b[39m\u001b[38;5;124m\"\u001b[39m\u001b[38;5;124mOutput Format\u001b[39m\u001b[38;5;124m\"\u001b[39m, choices\u001b[38;5;241m=\u001b[39m[\u001b[38;5;124m\"\u001b[39m\u001b[38;5;124mjpeg\u001b[39m\u001b[38;5;124m\"\u001b[39m, \u001b[38;5;124m\"\u001b[39m\u001b[38;5;124mpng\u001b[39m\u001b[38;5;124m\"\u001b[39m, \u001b[38;5;124m\"\u001b[39m\u001b[38;5;124mwebp\u001b[39m\u001b[38;5;124m\"\u001b[39m], value\u001b[38;5;241m=\u001b[39m\u001b[38;5;124m\"\u001b[39m\u001b[38;5;124mpng\u001b[39m\u001b[38;5;124m\"\u001b[39m)\n\u001b[0;32m     17\u001b[0m     ],\n\u001b[0;32m     18\u001b[0m     outputs\u001b[38;5;241m=\u001b[39m\u001b[38;5;124m\"\u001b[39m\u001b[38;5;124mimage\u001b[39m\u001b[38;5;124m\"\u001b[39m,\n\u001b[0;32m     19\u001b[0m     title\u001b[38;5;241m=\u001b[39m\u001b[38;5;124m\"\u001b[39m\u001b[38;5;124mStable Diffusion Image Generator\u001b[39m\u001b[38;5;124m\"\u001b[39m,\n\u001b[0;32m     20\u001b[0m     description\u001b[38;5;241m=\u001b[39m\u001b[38;5;124m\"\u001b[39m\u001b[38;5;124mGenerate images using Stable Diffusion. Adjust the parameters and enter a prompt to get started.\u001b[39m\u001b[38;5;124m\"\u001b[39m\n\u001b[0;32m     21\u001b[0m )\n\u001b[0;32m     22\u001b[0m interface\u001b[38;5;241m.\u001b[39mlaunch()\n",
      "\u001b[1;31mAttributeError\u001b[0m: module 'gradio' has no attribute 'Interface'"
     ]
    }
   ],
   "source": [
    "interface = gr.Interface(\n",
    "    fn=generate_image,\n",
    "    inputs=[\n",
    "        gr.Textbox(label=\"Prompt\", lines=2, placeholder=\"Enter your prompt here...\"),\n",
    "        gr.Textbox(label=\"Negative Prompt\", lines=2, placeholder=\"Describe what you do not wish to see in the output image...\"),\n",
    "        gr.Dropdown(label=\"Aspect Ratio\", choices=[\"16:9\", \"1:1\", \"21:9\", \"2:3\", \"3:2\", \"4:5\", \"5:4\", \"9:16\", \"9:21\"], value=\"1:1\"),\n",
    "        gr.Slider(label=\"Height\", minimum=128, maximum=1024, step=64, value=512),\n",
    "        gr.Slider(label=\"Width\", minimum=128, maximum=1024, step=64, value=512),\n",
    "        gr.Slider(label=\"CFG Scale\", minimum=0, maximum=35, step=0.1, value=7),\n",
    "        gr.Dropdown(label=\"Clip Guidance Preset\", choices=[\"FAST_BLUE\", \"FAST_GREEN\", \"NONE\", \"SIMPLE\", \"SLOW\", \"SLOWER\", \"SLOWEST\"], value=\"NONE\"),\n",
    "        gr.Dropdown(label=\"Sampler\", choices=[\"DDIM\", \"DDPM\", \"K_DPMPP_2M\", \"K_DPMPP_2S_ANCESTRAL\", \"K_DPM_2\", \"K_DPM_2_ANCESTRAL\", \"K_EULER\", \"K_EULER_ANCESTRAL\", \"K_HEUN\", \"K_LMS\"], value=\"K_EULER\"),\n",
    "        gr.Slider(label=\"Samples\", minimum=1, maximum=10, step=1, value=1),\n",
    "        gr.Slider(label=\"Seed\", minimum=0, maximum=4294967294, step=1, value=0),\n",
    "        gr.Slider(label=\"Steps\", minimum=10, maximum=50, step=1, value=30),\n",
    "        gr.Dropdown(label=\"Style Preset\", choices=[\"3d-model\", \"analog-film\", \"anime\", \"cinematic\", \"comic-book\", \"digital-art\", \"enhance\", \"fantasy-art\", \"isometric\", \"line-art\", \"low-poly\", \"modeling-compound\", \"neon-punk\", \"origami\", \"photographic\", \"pixel-art\", \"tile-texture\"], value=\"photographic\"),\n",
    "        gr.Dropdown(label=\"Output Format\", choices=[\"jpeg\", \"png\", \"webp\"], value=\"png\")\n",
    "    ],\n",
    "    outputs=\"image\",\n",
    "    title=\"Stable Diffusion Image Generator\",\n",
    "    description=\"Generate images using Stable Diffusion. Adjust the parameters and enter a prompt to get started.\"\n",
    ")\n",
    "interface.launch()"
   ]
  },
  {
   "cell_type": "code",
   "execution_count": 2,
   "metadata": {},
   "outputs": [
    {
     "ename": "AttributeError",
     "evalue": "module 'gradio' has no attribute 'Blocks'",
     "output_type": "error",
     "traceback": [
      "\u001b[1;31m---------------------------------------------------------------------------\u001b[0m",
      "\u001b[1;31mAttributeError\u001b[0m                            Traceback (most recent call last)",
      "Cell \u001b[1;32mIn[2], line 7\u001b[0m\n\u001b[0;32m      4\u001b[0m     \u001b[38;5;28;01melse\u001b[39;00m:\n\u001b[0;32m      5\u001b[0m         \u001b[38;5;28;01mreturn\u001b[39;00m gr\u001b[38;5;241m.\u001b[39mupdate(visible\u001b[38;5;241m=\u001b[39m\u001b[38;5;28;01mFalse\u001b[39;00m), gr\u001b[38;5;241m.\u001b[39mupdate(visible\u001b[38;5;241m=\u001b[39m\u001b[38;5;28;01mTrue\u001b[39;00m)\n\u001b[1;32m----> 7\u001b[0m \u001b[38;5;28;01mwith\u001b[39;00m \u001b[43mgr\u001b[49m\u001b[38;5;241;43m.\u001b[39;49m\u001b[43mBlocks\u001b[49m() \u001b[38;5;28;01mas\u001b[39;00m demo:\n\u001b[0;32m      8\u001b[0m     \u001b[38;5;28;01mwith\u001b[39;00m gr\u001b[38;5;241m.\u001b[39mRow():\n\u001b[0;32m      9\u001b[0m         \u001b[38;5;28;01mwith\u001b[39;00m gr\u001b[38;5;241m.\u001b[39mColumn():\n",
      "\u001b[1;31mAttributeError\u001b[0m: module 'gradio' has no attribute 'Blocks'"
     ]
    }
   ],
   "source": [
    "def update_layout(selected_layout):\n",
    "    if selected_layout == \"Layout 1\":\n",
    "        return gr.update(visible=True), gr.update(visible=False)\n",
    "    else:\n",
    "        return gr.update(visible=False), gr.update(visible=True)\n",
    "    \n",
    "with gr.Blocks() as demo:\n",
    "    with gr.Row():\n",
    "        with gr.Column():\n",
    "            layout_selector = gr.Dropdown(label=\"Select Layout\", choices=[\"Layout 1\", \"Layout 2\"], value=\"Layout 1\")\n",
    "        \n",
    "        with gr.Column():\n",
    "            with gr.Row(visible=True) as layout1:\n",
    "                with gr.Column():\n",
    "                    prompt_text = gr.Textbox(label=\"Prompt Text\", lines=2, placeholder=\"Enter your prompt here...\")\n",
    "                    prompt_weight = gr.Slider(label=\"Prompt Weight\", minimum=0.0, maximum=1.0, value=0.5)\n",
    "                    height = gr.Slider(label=\"Height\", minimum=128, maximum=1024, step=64, value=512)\n",
    "                    width = gr.Slider(label=\"Width\", minimum=128, maximum=1024, step=64, value=512)\n",
    "                    cfg_scale = gr.Slider(label=\"CFG Scale\", minimum=0, maximum=35, step=0.1, value=7)\n",
    "                    clip_guidance_preset = gr.Dropdown(label=\"Clip Guidance Preset\", choices=[\"FAST_BLUE\", \"FAST_GREEN\", \"NONE\", \"SIMPLE\", \"SLOW\", \"SLOWER\", \"SLOWEST\"], value=\"NONE\")\n",
    "                    sampler = gr.Dropdown(label=\"Sampler\", choices=[\"DDIM\", \"DDPM\", \"K_DPMPP_2M\", \"K_DPMPP_2S_ANCESTRAL\", \"K_DPM_2\", \"K_DPM_2_ANCESTRAL\", \"K_EULER\", \"K_EULER_ANCESTRAL\", \"K_HEUN\", \"K_LMS\"], value=\"K_EULER\")\n",
    "                    samples = gr.Slider(label=\"Samples\", minimum=1, maximum=10, step=1, value=1)\n",
    "                    seed = gr.Slider(label=\"Seed\", minimum=0, maximum=4294967295, step=1, value=0)\n",
    "                    steps = gr.Slider(label=\"Steps\", minimum=10, maximum=50, step=1, value=30)\n",
    "                    style_preset = gr.Dropdown(label=\"Style Preset\", choices=[\"3d-model\", \"analog-film\", \"anime\", \"cinematic\", \"comic-book\", \"digital-art\", \"enhance\", \"fantasy-art\", \"isometric\", \"line-art\", \"low-poly\", \"modeling-compound\", \"neon-punk\", \"origami\", \"photographic\", \"pixel-art\", \"tile-texture\"], value=\"photographic\")\n",
    "                    output_image = gr.Image()\n",
    "\n",
    "                generate_btn1 = gr.Button(\"Generate Image\")\n",
    "                generate_btn1.click(\n",
    "                    generate_image,\n",
    "                    inputs=[prompt_text, prompt_weight, height, width, cfg_scale, clip_guidance_preset, sampler, samples, seed, steps, style_preset],\n",
    "                    outputs=output_image\n",
    "                )\n",
    "\n",
    "            with gr.Row(visible=False) as layout2:\n",
    "                with gr.Column():\n",
    "                    prompt = gr.Textbox(label=\"Prompt\", lines=2, placeholder=\"Enter your prompt here...\")\n",
    "                    negative_prompt = gr.Textbox(label=\"Negative Prompt\", lines=2, placeholder=\"Describe what you do not wish to see in the output image...\")\n",
    "                    aspect_ratio = gr.Dropdown(label=\"Aspect Ratio\", choices=[\"16:9\", \"1:1\", \"21:9\", \"2:3\", \"3:2\", \"4:5\", \"5:4\", \"9:16\", \"9:21\"], value=\"1:1\")\n",
    "                    height = gr.Slider(label=\"Height\", minimum=128, maximum=1024, step=64, value=512)\n",
    "                    width = gr.Slider(label=\"Width\", minimum=128, maximum=1024, step=64, value=512)\n",
    "                    cfg_scale = gr.Slider(label=\"CFG Scale\", minimum=0, maximum=35, step=0.1, value=7)\n",
    "                    clip_guidance_preset = gr.Dropdown(label=\"Clip Guidance Preset\", choices=[\"FAST_BLUE\", \"FAST_GREEN\", \"NONE\", \"SIMPLE\", \"SLOW\", \"SLOWER\", \"SLOWEST\"], value=\"NONE\")\n",
    "                    sampler = gr.Dropdown(label=\"Sampler\", choices=[\"DDIM\", \"DDPM\", \"K_DPMPP_2M\", \"K_DPMPP_2S_ANCESTRAL\", \"K_DPM_2\", \"K_DPM_2_ANCESTRAL\", \"K_EULER\", \"K_EULER_ANCESTRAL\", \"K_HEUN\", \"K_LMS\"], value=\"K_EULER\")\n",
    "                    samples = gr.Slider(label=\"Samples\", minimum=1, maximum=10, step=1, value=1)\n",
    "                    seed = gr.Slider(label=\"Seed\", minimum=0, maximum=4294967294, step=1, value=0)\n",
    "                    steps = gr.Slider(label=\"Steps\", minimum=10, maximum=50, step=1, value=30)\n",
    "                    style_preset = gr.Dropdown(label=\"Style Preset\", choices=[\"3d-model\", \"analog-film\", \"anime\", \"cinematic\", \"comic-book\", \"digital-art\", \"enhance\", \"fantasy-art\", \"isometric\", \"line-art\", \"low-poly\", \"modeling-compound\", \"neon-punk\", \"origami\", \"photographic\", \"pixel-art\", \"tile-texture\"], value=\"photographic\")\n",
    "                    output_format = gr.Dropdown(label=\"Output Format\", choices=[\"jpeg\", \"png\", \"webp\"], value=\"png\")\n",
    "                    output_image = gr.Image()\n",
    "\n",
    "                generate_btn2 = gr.Button(\"Generate Image\")\n",
    "                generate_btn2.click(\n",
    "                    generate_image,\n",
    "                    inputs=[prompt, negative_prompt, aspect_ratio, height, width, cfg_scale, clip_guidance_preset, sampler, samples, seed, steps, style_preset, negative_prompt, aspect_ratio, output_format],\n",
    "                    outputs=output_image\n",
    "                )\n",
    "\n",
    "    layout_selector.change(update_layout, layout_selector, [layout1, layout2])\n",
    "\n",
    "if __name__ == \"__main__\":\n",
    "    demo.launch()"
   ]
  }
 ],
 "metadata": {
  "kernelspec": {
   "display_name": ".venv",
   "language": "python",
   "name": "python3"
  },
  "language_info": {
   "codemirror_mode": {
    "name": "ipython",
    "version": 3
   },
   "file_extension": ".py",
   "mimetype": "text/x-python",
   "name": "python",
   "nbconvert_exporter": "python",
   "pygments_lexer": "ipython3",
   "version": "3.8.9"
  }
 },
 "nbformat": 4,
 "nbformat_minor": 2
}
