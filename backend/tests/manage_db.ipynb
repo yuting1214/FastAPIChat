{
 "cells": [
  {
   "cell_type": "code",
   "execution_count": null,
   "metadata": {},
   "outputs": [],
   "source": [
    "\n",
    "import psycopg2\n",
    "from psycopg2 import sql\n",
    "import os\n",
    "from dotenv import load_dotenv\n",
    "\n",
    "def delete_table(db_params, table_name):\n",
    "    # Establish a connection to the PostgreSQL database\n",
    "    try:\n",
    "        conn = psycopg2.connect(**db_params)\n",
    "        conn.autocommit = True  # Automatically commit changes\n",
    "        cursor = conn.cursor()\n",
    "\n",
    "        # Create the DROP TABLE statement using psycopg2's sql module to protect against SQL injection\n",
    "        drop_table_query = sql.SQL(\"DROP TABLE IF EXISTS {table}\").format(\n",
    "            table=sql.Identifier(table_name)\n",
    "        )\n",
    "\n",
    "        # Execute the DROP TABLE query\n",
    "        cursor.execute(drop_table_query)\n",
    "        print(f\"Table '{table_name}' has been deleted successfully.\")\n",
    "\n",
    "    except psycopg2.Error as e:\n",
    "        print(f\"Error deleting table: {e}\")\n",
    "    finally:\n",
    "        # Close the cursor and connection\n",
    "        if cursor:\n",
    "            cursor.close()\n",
    "        if conn:\n",
    "            conn.close()\n",
    "_ = load_dotenv('.env')\n",
    "\n"
   ]
  },
  {
   "cell_type": "code",
   "execution_count": null,
   "metadata": {},
   "outputs": [],
   "source": [
    "_ = load_dotenv('.env')\n",
    "\n",
    "db_params = {\n",
    "    \"dbname\": os.getenv(\"DB_NAME\"),\n",
    "    \"user\": os.getenv(\"DB_USERNAME\"),\n",
    "    \"password\": os.getenv(\"DB_PASS\"),\n",
    "    \"host\": os.getenv(\"DB_HOST\"),\n",
    "    \"port\": os.getenv(\"DB_PORT\")\n",
    "}\n",
    "\n",
    "tables = [\"appointments\", \"messages\", \"sessions\"]\n",
    "for table in tables:\n",
    "    delete_table(db_params, table)"
   ]
  }
 ],
 "metadata": {
  "language_info": {
   "name": "python"
  }
 },
 "nbformat": 4,
 "nbformat_minor": 2
}
